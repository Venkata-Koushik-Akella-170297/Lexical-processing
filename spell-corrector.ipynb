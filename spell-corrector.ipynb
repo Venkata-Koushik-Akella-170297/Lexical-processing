{
 "cells": [
  {
   "cell_type": "code",
   "execution_count": 1,
   "metadata": {
    "collapsed": true
   },
   "outputs": [],
   "source": [
    "import re\n",
    "from collections import Counter"
   ]
  },
  {
   "cell_type": "code",
   "execution_count": 2,
   "metadata": {
    "collapsed": true
   },
   "outputs": [],
   "source": [
    "# function to tokenise words\n",
    "def words(document):\n",
    "    \"Convert text to lower case and tokenise the document\"\n",
    "    return re.findall(r'\\w+', document.lower())"
   ]
  },
  {
   "cell_type": "code",
   "execution_count": 3,
   "metadata": {
    "collapsed": true
   },
   "outputs": [],
   "source": [
    "# create a frequency table of all the words of the document\n",
    "all_words = Counter(words(open('big.txt').read()))"
   ]
  },
  {
   "cell_type": "code",
   "execution_count": 4,
   "metadata": {},
   "outputs": [
    {
     "data": {
      "text/plain": [
       "135"
      ]
     },
     "execution_count": 4,
     "metadata": {},
     "output_type": "execute_result"
    }
   ],
   "source": [
    "# check frequency of a random word, say, 'chair'\n",
    "all_words['chair']"
   ]
  },
  {
   "cell_type": "code",
   "execution_count": 5,
   "metadata": {},
   "outputs": [
    {
     "data": {
      "text/plain": [
       "[('the', 79809),\n",
       " ('of', 40024),\n",
       " ('and', 38312),\n",
       " ('to', 28765),\n",
       " ('in', 22023),\n",
       " ('a', 21124),\n",
       " ('that', 12512),\n",
       " ('he', 12401),\n",
       " ('was', 11410),\n",
       " ('it', 10681)]"
      ]
     },
     "execution_count": 5,
     "metadata": {},
     "output_type": "execute_result"
    }
   ],
   "source": [
    "# look at top 10 frequent words\n",
    "all_words.most_common(10)"
   ]
  },
  {
   "cell_type": "code",
   "execution_count": 6,
   "metadata": {
    "collapsed": true
   },
   "outputs": [],
   "source": [
    "def edits_one(word):\n",
    "    \"Create all edits that are one edit away from `word`.\"\n",
    "    alphabets    = 'abcdefghijklmnopqrstuvwxyz'\n",
    "    splits     = [(word[:i], word[i:])                   for i in range(len(word) + 1)]\n",
    "    deletes    = [left + right[1:]                       for left, right in splits if right]\n",
    "    inserts    = [left + c + right                       for left, right in splits for c in alphabets]\n",
    "    replaces   = [left + c + right[1:]                   for left, right in splits if right for c in alphabets]\n",
    "    transposes = [left + right[1] + right[0] + right[2:] for left, right in splits if len(right)>1]\n",
    "    return set(deletes + inserts + replaces + transposes)"
   ]
  },
  {
   "cell_type": "code",
   "execution_count": 7,
   "metadata": {
    "collapsed": true
   },
   "outputs": [],
   "source": [
    "def edits_two(word):\n",
    "    \"Create all edits that are two edits away from `word`.\"\n",
    "    return (e2 for e1 in edits_one(word) for e2 in edits_one(e1))"
   ]
  },
  {
   "cell_type": "code",
   "execution_count": 8,
   "metadata": {
    "collapsed": true
   },
   "outputs": [],
   "source": [
    "def known(words):\n",
    "    \"The subset of `words` that appear in the `all_words`.\"\n",
    "    return set(word for word in words if word in all_words)"
   ]
  },
  {
   "cell_type": "code",
   "execution_count": 9,
   "metadata": {
    "collapsed": true
   },
   "outputs": [],
   "source": [
    "def possible_corrections(word):\n",
    "    \"Generate possible spelling corrections for word.\"\n",
    "    return (known([word]) or known(edits_one(word)) or known(edits_two(word)) or [word])"
   ]
  },
  {
   "cell_type": "code",
   "execution_count": 10,
   "metadata": {
    "collapsed": true
   },
   "outputs": [],
   "source": [
    "def prob(word, N=sum(all_words.values())): \n",
    "    \"Probability of `word`: Number of appearances of 'word' / total number of tokens\"\n",
    "    return all_words[word] / N"
   ]
  },
  {
   "cell_type": "code",
   "execution_count": 11,
   "metadata": {},
   "outputs": [
    {
     "name": "stdout",
     "output_type": "stream",
     "text": [
      "336\n",
      "{'mjonney', 'monncey', 'mocnney', 'jonney', 'monsney', 'monnpy', 'qonney', 'monnecy', 'monneyn', 'mwnney', 'mgnney', 'monzney', 'monney', 'moknney', 'motney', 'mlonney', 'monnes', 'monnmey', 'monnpey', 'monnzy', 'mogney', 'mmonney', 'minney', 'uonney', 'mongney', 'mopney', 'moonney', 'mponney', 'monneb', 'mnoney', 'monneg', 'moneney', 'konney', 'qmonney', 'mohney', 'mobney', 'moxnney', 'monnky', 'monnew', 'monjney', 'monneny', 'monneyk', 'monnemy', 'mpnney', 'mronney', 'monneo', 'msonney', 'jmonney', 'monneyy', 'monneyb', 'manney', 'monnbey', 'sonney', 'moniey', 'monnsey', 'bonney', 'mynney', 'monneky', 'monnoey', 'monnwy', 'mondney', 'monneqy', 'vonney', 'monne', 'mvonney', 'cmonney', 'mfnney', 'monnqey', 'modnney', 'montey', 'oonney', 'msnney', 'gmonney', 'hmonney', 'mofnney', 'monyney', 'monneyp', 'monneyi', 'monnee', 'monxey', 'fmonney', 'monbey', 'mnney', 'mongey', 'moniney', 'monhney', 'vmonney', 'monnek', 'monneyz', 'lonney', 'monuey', 'honney', 'umonney', 'monnty', 'monkney', 'monnejy', 'monnxy', 'muonney', 'movnney', 'monmney', 'monneyo', 'monnefy', 'monneys', 'monneyr', 'nmonney', 'mmnney', 'mgonney', 'monnmy', 'monnev', 'monnezy', 'mconney', 'mqonney', 'monneyx', 'mozney', 'monnzey', 'monneu', 'momnney', 'monnedy', 'fonney', 'mooney', 'mrnney', 'aonney', 'meonney', 'yonney', 'mouney', 'monnei', 'monneyg', 'moynney', 'monnely', 'maonney', 'motnney', 'mojney', 'monnea', 'moyney', 'myonney', 'monnye', 'monbney', 'pmonney', 'monnjey', 'modney', 'mknney', 'mosnney', 'monnfy', 'monneye', 'monnewy', 'monneyf', 'monnen', 'monvey', 'monnuey', 'ionney', 'munney', 'dmonney', 'monngey', 'monnel', 'mwonney', 'monneq', 'mtnney', 'mobnney', 'mqnney', 'monlney', 'mdonney', 'monnhey', 'monnem', 'moaney', 'monnhy', 'monaney', 'mosney', 'monwney', 'monnyey', 'monneyc', 'moncey', 'mhnney', 'omonney', 'mnonney', 'moqney', 'monaey', 'mjnney', 'monneyq', 'monnxey', 'mornney', 'moncney', 'lmonney', 'monpey', 'monpney', 'moneey', 'monxney', 'monnef', 'mtonney', 'monyey', 'monoey', 'monneyv', 'mohnney', 'monqey', 'molney', 'monzey', 'monnehy', 'monqney', 'monneyj', 'monnex', 'mononey', 'monnoy', 'tonney', 'emonney', 'monniy', 'mvnney', 'movney', 'monngy', 'mokney', 'monnsy', 'monnet', 'monnby', 'monnney', 'monneiy', 'wonney', 'monneby', 'morney', 'monfey', 'xonney', 'mognney', 'monnny', 'moeney', 'money', 'mnnney', 'molnney', 'monneey', 'zmonney', 'monnaey', 'monhey', 'monnkey', 'menney', 'monjey', 'moiney', 'mocney', 'mionney', 'monvney', 'mxonney', 'moxney', 'monndy', 'monned', 'mznney', 'nonney', 'monmey', 'monneyt', 'ponney', 'mlnney', 'monnyy', 'monnwey', 'mofney', 'monwey', 'mbonney', 'mxnney', 'monnjy', 'monnfey', 'moinney', 'monnay', 'mdnney', 'eonney', 'kmonney', 'ronney', 'mbnney', 'monfney', 'moneny', 'mhonney', 'mowney', 'monnety', 'mownney', 'mfonney', 'monnry', 'monndey', 'mkonney', 'monnley', 'monny', 'monnep', 'mopnney', 'monrney', 'monnesy', 'monnery', 'monnegy', 'momney', 'zonney', 'gonney', 'monnevy', 'wmonney', 'moanney', 'monkey', 'montney', 'monnej', 'mojnney', 'monnepy', 'monncy', 'mzonney', 'mounney', 'imonney', 'moznney', 'moqnney', 'monneyu', 'monnly', 'monnvy', 'monnez', 'monneya', 'donney', 'monnec', 'amonney', 'monrey', 'rmonney', 'monneyd', 'monnrey', 'monuney', 'monnqy', 'monnexy', 'conney', 'monneym', 'bmonney', 'ymonney', 'smonney', 'monniey', 'tmonney', 'monneay', 'mondey', 'monnvey', 'xmonney', 'monneuy', 'onney', 'monley', 'monner', 'monsey', 'monneh', 'monneyh', 'moenney', 'monneoy', 'monneyw', 'omnney', 'monntey', 'monneyl', 'mcnney', 'monnuy'}\n"
     ]
    }
   ],
   "source": [
    "print(len(set(edits_one(\"monney\"))))\n",
    "print(edits_one(\"monney\"))"
   ]
  },
  {
   "cell_type": "code",
   "execution_count": 12,
   "metadata": {},
   "outputs": [
    {
     "name": "stdout",
     "output_type": "stream",
     "text": [
      "{'monkey', 'money'}\n"
     ]
    }
   ],
   "source": [
    "import pandas as pd\n",
    "print(known(edits_one(\"monney\")))"
   ]
  },
  {
   "cell_type": "code",
   "execution_count": 13,
   "metadata": {},
   "outputs": [
    {
     "name": "stdout",
     "output_type": "stream",
     "text": [
      "51013\n",
      "{'monkey', 'money'}\n"
     ]
    }
   ],
   "source": [
    "# Let's look at words that are two edits away\n",
    "print(len(set(edits_two(\"monney\"))))\n",
    "print(known(edits_one(\"monney\")))"
   ]
  },
  {
   "cell_type": "code",
   "execution_count": 14,
   "metadata": {},
   "outputs": [
    {
     "name": "stdout",
     "output_type": "stream",
     "text": [
      "{'monkey', 'money'}\n"
     ]
    }
   ],
   "source": [
    "# Let's look at possible corrections of a word\n",
    "print(possible_corrections(\"monney\"))"
   ]
  },
  {
   "cell_type": "code",
   "execution_count": 15,
   "metadata": {},
   "outputs": [
    {
     "name": "stdout",
     "output_type": "stream",
     "text": [
      "0.0002922233626303688\n",
      "5.378344097491451e-06\n"
     ]
    }
   ],
   "source": [
    "# Let's look at probability of a word\n",
    "print(prob(\"money\"))\n",
    "print(prob(\"monkey\"))"
   ]
  },
  {
   "cell_type": "code",
   "execution_count": 16,
   "metadata": {},
   "outputs": [],
   "source": [
    "def spell_check(word):\n",
    "    \"Print the most probable spelling correction for `word` out of all the `possible_corrections`\"\n",
    "    correct_word = max(possible_corrections(word), key=prob)\n",
    "    if correct_word != word:\n",
    "        return \"Did you mean \" + correct_word + \"?\"\n",
    "    else:\n",
    "        return \"Correct spelling.\""
   ]
  },
  {
   "cell_type": "code",
   "execution_count": 17,
   "metadata": {},
   "outputs": [
    {
     "name": "stdout",
     "output_type": "stream",
     "text": [
      "Did you mean money?\n"
     ]
    }
   ],
   "source": [
    "# test spell check\n",
    "print(spell_check(\"monney\"))"
   ]
  },
  {
   "cell_type": "code",
   "execution_count": 18,
   "metadata": {},
   "outputs": [
    {
     "name": "stdout",
     "output_type": "stream",
     "text": [
      "{'emfatsize', 'gmfasize', 'fmfasize', 'emfasiae', 'emfasizs', 'emfasizei', 'emfasized', 'emfaslize', 'emfasizew', 'smfasize', 'emfasize', 'emfasiwe', 'ehmfasize', 'emfysize', 'emfcsize', 'eimfasize', 'mfasize', 'emfasbize', 'emfasizec', 'emfaspize', 'emfanize', 'zemfasize', 'emftsize', 'emrasize', 'eqfasize', 'emfwasize', 'qmfasize', 'emfyasize', 'mmfasize', 'bemfasize', 'emxasize', 'emjasize', 'emfasfze', 'emfasizea', 'jemfasize', 'emfvsize', 'emfhasize', 'emfasizq', 'emfasizef', 'gemfasize', 'emfasie', 'emfasfize', 'emfasizbe', 'emfansize', 'emfapize', 'emfaaize', 'emjfasize', 'eufasize', 'emfasgze', 'emfasife', 'emtasize', 'emfasizh', 'kemfasize', 'emfamsize', 'eqmfasize', 'wemfasize', 'eymfasize', 'emfasnze', 'emfasrze', 'emfawize', 'emfasrize', 'emkfasize', 'emfaiize', 'esmfasize', 'ecfasize', 'emfasgize', 'emfasizel', 'exfasize', 'emfasxize', 'emfasicze', 'emlfasize', 'emhasize', 'emfasizme', 'emfesize', 'emfasilze', 'emefasize', 'emmfasize', 'emfasise', 'emofasize', 'iemfasize', 'emfasije', 'emfasizj', 'emfjasize', 'ejfasize', 'emfasixze', 'emfasqize', 'emiasize', 'emfaskize', 'hemfasize', 'emfaszze', 'emfmasize', 'emfasijze', 'ewmfasize', 'egfasize', 'semfasize', 'emfadsize', 'emfasizx', 'epfasize', 'emfasibze', 'emfaeize', 'emfasizhe', 'emfrasize', 'emfastize', 'emfasisze', 'emfasimze', 'emfaisze', 'emfaspze', 'emfosize', 'emfadize', 'emfaqize', 'emfxasize', 'emflasize', 'emfassize', 'emfasyize', 'ekfasize', 'emqasize', 'emfasihze', 'ecmfasize', 'emfnsize', 'emfaseze', 'cemfasize', 'emfasizk', 'emfzasize', 'emfasizy', 'femfasize', 'emfaswize', 'emfaxsize', 'efmasize', 'emfagsize', 'ezfasize', 'oemfasize', 'enmfasize', 'efasize', 'emfpsize', 'emfasvze', 'emfawsize', 'emfjsize', 'emfasizer', 'nemfasize', 'emeasize', 'emfaszie', 'emfasmize', 'embfasize', 'emfahsize', 'emfaoize', 'emfasioe', 'emfasizte', 'yemfasize', 'zmfasize', 'emffsize', 'emfasiyze', 'emkasize', 'emrfasize', 'emmasize', 'emfasizae', 'emfxsize', 'lmfasize', 'emvfasize', 'emfasiize', 'ekmfasize', 'emfasizu', 'egmfasize', 'vmfasize', 'emfacize', 'etmfasize', 'emfafize', 'emdfasize', 'emsfasize', 'emfasizex', 'emfsasize', 'emfasizet', 'edfasize', 'emlasize', 'elmfasize', 'emfasizxe', 'emfdasize', 'memfasize', 'umfasize', 'mefasize', 'emfasizpe', 'bmfasize', 'emfacsize', 'emfarize', 'emfasizp', 'etfasize', 'emfasinze', 'emflsize', 'emfasixe', 'emfasiee', 'emfasdze', 'emfisize', 'emfashize', 'emfasiqze', 'emfaize', 'emfasizre', 'emwasize', 'emfasizej', 'embasize', 'emgfasize', 'emfajize', 'ehfasize', 'emfasizie', 'emdasize', 'emfaside', 'emfcasize', 'emfasiie', 'lemfasize', 'emfasiqe', 'emfasizfe', 'emvasize', 'dmfasize', 'emfasizwe', 'vemfasize', 'emfasike', 'emfasizse', 'emfasipze', 'emfasizeh', 'emgasize', 'ymfasize', 'omfasize', 'effasize', 'emfasvize', 'emfasizz', 'qemfasize', 'emafsize', 'emfasoize', 'imfasize', 'edmfasize', 'eifasize', 'emfalize', 'emfasiza', 'emfasizeu', 'exmfasize', 'emfasnize', 'emfasjze', 'emfasizce', 'enfasize', 'emfgasize', 'elfasize', 'emfasizke', 'emfamize', 'ermfasize', 'emfasizge', 'emfpasize', 'emfavize', 'emfakize', 'emfasire', 'emfasizeo', 'ejmfasize', 'emfasizr', 'emfaasize', 'emfasze', 'emfaosize', 'emfqsize', 'emfabsize', 'emfastze', 'emfasiz', 'emfasizve', 'emfaksize', 'emfausize', 'emftasize', 'emfasifze', 'emfbsize', 'emfasaze', 'emfiasize', 'eyfasize', 'emfasizev', 'emfasikze', 'emfasbze', 'emfasizi', 'emfasizb', 'emfasizne', 'emfasizc', 'emfasuze', 'emfasirze', 'emfasxze', 'emfasice', 'emfasizle', 'emfasizez', 'emfasizen', 'eafasize', 'emfazize', 'emnasize', 'aemfasize', 'emfasite', 'emfbasize', 'uemfasize', 'emfasizd', 'eofasize', 'emasize', 'emfasigze', 'xemfasize', 'ebfasize', 'emfaysize', 'emfhsize', 'ezmfasize', 'jmfasize', 'emfazsize', 'emfasizw', 'emfdsize', 'emfasiez', 'emfasidze', 'emfasizey', 'emfsaize', 'emfasuize', 'emfasizze', 'ebmfasize', 'rmfasize', 'emfasizde', 'eumfasize', 'emfapsize', 'emfvasize', 'emhfasize', 'emifasize', 'emfasizek', 'emfasiue', 'emfasizoe', 'emfasiye', 'emfajsize', 'emfasieze', 'remfasize', 'emqfasize', 'eamfasize', 'efmfasize', 'emfasizn', 'emfaszize', 'emfaswze', 'emfnasize', 'emoasize', 'emtfasize', 'emfasile', 'emfaseize', 'emfasizm', 'emfuasize', 'emfaesize', 'emfasizem', 'emfzsize', 'emfagize', 'emfrsize', 'emfavsize', 'emfasizt', 'hmfasize', 'empasize', 'empfasize', 'emufasize', 'emfatize', 'emfasqze', 'emfkasize', 'ewfasize', 'emffasize', 'emfasiwze', 'emfasizep', 'epmfasize', 'emfasipe', 'emfasizl', 'emfashze', 'emuasize', 'emfoasize', 'emaasize', 'emzasize', 'emfafsize', 'temfasize', 'evmfasize', 'emfasizye', 'emcasize', 'emfascze', 'evfasize', 'emfasdize', 'emfasihe', 'emfasime', 'emfasizf', 'eemfasize', 'emfaxize', 'emfasizue', 'emfasizeb', 'emfeasize', 'eomfasize', 'esfasize', 'emfaskze', 'emfabize', 'emfasiuze', 'emfasizes', 'emnfasize', 'kmfasize', 'emfasizje', 'emfasaize', 'emfasine', 'emxfasize', 'emfasiaze', 'tmfasize', 'emfasizg', 'pemfasize', 'emfasjize', 'emfasizo', 'emfahize', 'emsasize', 'emfsize', 'emwfasize', 'emfasizee', 'emfasyze', 'emfaqsize', 'emfasivze', 'pmfasize', 'emfksize', 'emfasive', 'emyasize', 'xmfasize', 'emfwsize', 'emfmsize', 'emfauize', 'emfasige', 'erfasize', 'emfqasize', 'emfasizeq', 'cmfasize', 'emfalsize', 'emafasize', 'wmfasize', 'emfassze', 'emfascize', 'emfasizeg', 'emfgsize', 'emfaslze', 'emcfasize', 'emfasibe', 'emfasizv', 'emfasizqe', 'emfusize', 'demfasize', 'amfasize', 'emfasoze', 'emfssize', 'emzfasize', 'emfasmze', 'emfasitze', 'emyfasize', 'emfayize', 'eefasize', 'nmfasize', 'emfasioze', 'emfaisize', 'emfarsize'}\n",
      "442\n"
     ]
    }
   ],
   "source": [
    "new_word = edits_one(\"emfasize\")\n",
    "print(new_word)\n",
    "print(len(new_word))\n"
   ]
  },
  {
   "cell_type": "code",
   "execution_count": 22,
   "metadata": {},
   "outputs": [
    {
     "name": "stdout",
     "output_type": "stream",
     "text": [
      "90902\n"
     ]
    }
   ],
   "source": [
    "print(len(set(edits_two(\"emfasize\"))))\n"
   ]
  },
  {
   "cell_type": "code",
   "execution_count": 23,
   "metadata": {},
   "outputs": [
    {
     "name": "stdout",
     "output_type": "stream",
     "text": [
      "{'emphasize'}\n"
     ]
    }
   ],
   "source": [
    "print(possible_corrections(\"emfasize\"))\n"
   ]
  },
  {
   "cell_type": "code",
   "execution_count": null,
   "metadata": {},
   "outputs": [],
   "source": []
  }
 ],
 "metadata": {
  "kernelspec": {
   "display_name": "Python 3",
   "language": "python",
   "name": "python3"
  },
  "language_info": {
   "codemirror_mode": {
    "name": "ipython",
    "version": 3
   },
   "file_extension": ".py",
   "mimetype": "text/x-python",
   "name": "python",
   "nbconvert_exporter": "python",
   "pygments_lexer": "ipython3",
   "version": "3.10.8"
  }
 },
 "nbformat": 4,
 "nbformat_minor": 2
}
